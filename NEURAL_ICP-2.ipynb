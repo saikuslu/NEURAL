{
 "cells": [
  {
   "cell_type": "code",
   "execution_count": 1,
   "id": "15ecec5d",
   "metadata": {},
   "outputs": [
    {
     "name": "stdout",
     "output_type": "stream",
     "text": [
      "enter first name : SAIKUSLU\n",
      "enter last name : GULLAPALLI\n",
      "User full name :  SAIKUSLU GULLAPALLI\n",
      "Alternate String :  SIUL ULPLI\n"
     ]
    }
   ],
   "source": [
    "#Enter the first name by user\n",
    "first_name= input(\"enter first name : \")\n",
    "#Enter the last name by user\n",
    "last_name= input(\"enter last name : \")\n",
    "\n",
    "#full_name is both first name and last name\n",
    "def full_name(first_name,last_name):\n",
    "    return first_name +\" \"+last_name\n",
    "#string_alternative function will prints the data alternatively\n",
    "def string_alternative(full_name):\n",
    "    new_str = \"\"\n",
    "    for index in range(0,len(full_name),2):\n",
    "                       new_str+=full_name[index]\n",
    "    return new_str\n",
    "\n",
    "\n",
    "print(\"User full name : \",full_name(first_name,last_name))\n",
    "\n",
    "print(\"Alternate String : \",string_alternative(full_name(first_name,last_name)))\n"
   ]
  },
  {
   "cell_type": "code",
   "execution_count": null,
   "id": "3bf0aa5d",
   "metadata": {},
   "outputs": [],
   "source": [
    "#Read the Input file from Home\n",
    "Input_file = open(\"input.txt\", \"r\")\n",
    "#Write the number of words count and split the data from input file\n",
    "output_file = open(\"output.txt\", \"w\")\n",
    "\n",
    "content = {}\n",
    "\n",
    "\n",
    "for line in Input_file:\n",
    "    output_file.write(line)\n",
    "    new_l = line.split()\n",
    "    for x in new_l:\n",
    "        if(content.get(x)==None):\n",
    "            content[x]=1\n",
    "        else:\n",
    "            content[x] = content[x] + 1\n",
    "\n",
    "output_file.write(\" Word_Count : \")\n",
    "for key, value in content.items():\n",
    "        output_file.write('%s:%s\\n' % (key, value))\n",
    "Input_file.close()\n",
    "output_file.close()"
   ]
  },
  {
   "cell_type": "code",
   "execution_count": 2,
   "id": "4127077a",
   "metadata": {},
   "outputs": [
    {
     "name": "stdout",
     "output_type": "stream",
     "text": [
      "Enter the number of customers: 3\n",
      "Enter the height (inches) of customer 1: 23\n",
      "Enter the height (inches) of customer 2: 34\n",
      "Enter the height (inches) of customer 3: 45\n",
      "Heights in CM (Using Nested Loop): [58.42, 86.36, 114.3]\n",
      "Heights in CM (Using List Comprehension): [58.42, 86.36, 114.3]\n"
     ]
    }
   ],
   "source": [
    "# Method 1: Using Nested Interactive Loop\n",
    "def convert_heights_to_cm_nested(heights_inches):\n",
    "    heights_cm = []\n",
    "    for height in heights_inches:\n",
    "        cm = height * 2.54  # 1 inch = 2.54 cm\n",
    "        heights_cm.append(round(cm, 2))\n",
    "    return heights_cm\n",
    "\n",
    "# Method 2: Using List Comprehension\n",
    "def convert_heights_to_cm_list_comprehension(heights_inches):\n",
    "    return [round(height * 2.54, 2) for height in heights_inches]\n",
    "\n",
    "# Main program\n",
    "if __name__ == \"__main__\":\n",
    "    heights_inches = []\n",
    "    n = int(input(\"Enter the number of customers: \"))\n",
    "\n",
    "    for i in range(n):\n",
    "        height = float(input(f\"Enter the height (inches) of customer {i + 1}: \"))\n",
    "        heights_inches.append(height)\n",
    "\n",
    "    # Using Nested Interactive Loop\n",
    "    heights_cm_nested = convert_heights_to_cm_nested(heights_inches)\n",
    "    print(\"Heights in CM (Using Nested Loop):\", heights_cm_nested)\n",
    "\n",
    "    # Using List Comprehension\n",
    "    heights_cm_comprehension = convert_heights_to_cm_list_comprehension(heights_inches)\n",
    "    print(\"Heights in CM (Using List Comprehension):\", heights_cm_comprehension)"
   ]
  },
  {
   "cell_type": "code",
   "execution_count": null,
   "id": "5fd36e47",
   "metadata": {},
   "outputs": [],
   "source": []
  }
 ],
 "metadata": {
  "kernelspec": {
   "display_name": "Python 3 (ipykernel)",
   "language": "python",
   "name": "python3"
  },
  "language_info": {
   "codemirror_mode": {
    "name": "ipython",
    "version": 3
   },
   "file_extension": ".py",
   "mimetype": "text/x-python",
   "name": "python",
   "nbconvert_exporter": "python",
   "pygments_lexer": "ipython3",
   "version": "3.9.13"
  }
 },
 "nbformat": 4,
 "nbformat_minor": 5
}
